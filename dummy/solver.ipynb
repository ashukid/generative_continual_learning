{
 "cells": [
  {
   "cell_type": "code",
   "execution_count": 4,
   "metadata": {},
   "outputs": [],
   "source": [
    "import numpy as np\n",
    "import pandas as pd\n",
    "import os\n",
    "import shutil\n",
    "import glob\n",
    "import matplotlib.pyplot as plt\n",
    "import random\n",
    "import torch\n",
    "from torch import nn\n",
    "import torchvision\n",
    "import torch.utils.data\n",
    "from torchvision.utils import save_image\n",
    "import torch.optim as optim\n",
    "from PIL import Image\n",
    "\n",
    "from utils import plot_images"
   ]
  },
  {
   "cell_type": "code",
   "execution_count": 5,
   "metadata": {},
   "outputs": [],
   "source": [
    "class dataset(torch.utils.data.Dataset):\n",
    "    \n",
    "    def __init__(self,data):\n",
    "        self.data=data\n",
    "        \n",
    "    def to_tanh(self,image):\n",
    "        upper=image.max()\n",
    "        lower=image.min()\n",
    "        image=2*((image-lower)/(upper-lower))-1\n",
    "        return image\n",
    "        \n",
    "    def to_sigmoid(self,image):\n",
    "        upper=image.max()\n",
    "        lower=image.min()\n",
    "        image=(image-lower)/(upper-lower)\n",
    "        return image\n",
    "        \n",
    "    def __getitem__(self,idx):\n",
    "        image=self.to_sigmoid(self.data[idx,1:]).astype(np.float32).reshape((1,28,28))\n",
    "        label=self.data[idx,0].astype(np.int64)\n",
    "        return image,label\n",
    "    \n",
    "    def __len__(self):\n",
    "        return len(self.data)"
   ]
  },
  {
   "cell_type": "code",
   "execution_count": 7,
   "metadata": {},
   "outputs": [],
   "source": [
    "def load_dataset(data,batch_size):\n",
    "    dset=dataset(data)\n",
    "    dloader=torch.utils.data.DataLoader(dset,batch_size=batch_size,shuffle=True)\n",
    "    \n",
    "    return dloader"
   ]
  },
  {
   "cell_type": "code",
   "execution_count": 8,
   "metadata": {},
   "outputs": [],
   "source": [
    "class Network(nn.Module):\n",
    "    def __init__(self):\n",
    "        super().__init__()\n",
    "        \n",
    "        self.conv=nn.Sequential(\n",
    "            \n",
    "            #28,28,1\n",
    "            nn.Conv2d(1,8,3,stride=1,padding=0),\n",
    "            nn.Conv2d(8,8,3,stride=2,padding=0),\n",
    "            nn.ReLU(inplace=True),\n",
    "            \n",
    "            #12,12,8\n",
    "            nn.Conv2d(8,16,3,stride=1,padding=0),\n",
    "            nn.Conv2d(16,16,3,stride=2,padding=0),\n",
    "            nn.ReLU(inplace=True),#4,4,16\n",
    "        )\n",
    "        \n",
    "        self.fc=nn.Sequential(\n",
    "            \n",
    "            #256\n",
    "            nn.Linear(256,500),\n",
    "            nn.ReLU(inplace=True),\n",
    "            nn.Linear(500,10),\n",
    "        )\n",
    "        \n",
    "    def forward(self,inp):\n",
    "        feat=self.conv(inp).view(-1,256)\n",
    "        out=self.fc(feat)\n",
    "        return out"
   ]
  },
  {
   "cell_type": "code",
   "execution_count": 9,
   "metadata": {},
   "outputs": [],
   "source": [
    "cuda=torch.cuda.is_available()\n",
    "device=torch.device(\"cuda:0\" if cuda else \"cpu\")\n",
    "\n",
    "net=Network().to(device)\n",
    "criterion=nn.CrossEntropyLoss()\n",
    "optim=torch.optim.Adam(net.parameters(),lr=0.001)"
   ]
  },
  {
   "cell_type": "code",
   "execution_count": 17,
   "metadata": {},
   "outputs": [],
   "source": [
    "def train(dloader,epoch,path):\n",
    "    \n",
    "    net.train()\n",
    "    for epoch in range(epoch):\n",
    "        iter_loss=0\n",
    "        for x,y in dloader:\n",
    "            x,y=x.to(device),y.to(device)\n",
    "            output=net(x)\n",
    "            loss=criterion(output,y)\n",
    "            iter_loss+=loss.item()\n",
    "\n",
    "            net.zero_grad()\n",
    "            loss.backward()\n",
    "            optim.step()\n",
    "        print(f\"Epoch : {epoch} Loss : {iter_loss}\")\n",
    "        \n",
    "    #code to save the network\n",
    "    torch.save(net.state_dict(),path)"
   ]
  },
  {
   "cell_type": "code",
   "execution_count": 18,
   "metadata": {},
   "outputs": [],
   "source": [
    "def main(data,path):\n",
    "    batch_size=64\n",
    "    epoch=10\n",
    "    \n",
    "    dloader=load_dataset(data,batch_size)\n",
    "    train(dloader,epoch,path)"
   ]
  },
  {
   "cell_type": "code",
   "execution_count": null,
   "metadata": {},
   "outputs": [],
   "source": []
  }
 ],
 "metadata": {
  "kernelspec": {
   "display_name": "Python 3",
   "language": "python",
   "name": "python3"
  },
  "language_info": {
   "codemirror_mode": {
    "name": "ipython",
    "version": 3
   },
   "file_extension": ".py",
   "mimetype": "text/x-python",
   "name": "python",
   "nbconvert_exporter": "python",
   "pygments_lexer": "ipython3",
   "version": "3.6.9"
  }
 },
 "nbformat": 4,
 "nbformat_minor": 2
}
