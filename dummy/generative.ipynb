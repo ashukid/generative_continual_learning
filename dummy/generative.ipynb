{
 "cells": [
  {
   "cell_type": "markdown",
   "metadata": {},
   "source": [
    "wgan gp for mnist dataset"
   ]
  },
  {
   "cell_type": "code",
   "execution_count": 1,
   "metadata": {},
   "outputs": [],
   "source": [
    "import numpy as np\n",
    "import pandas as pd\n",
    "import os\n",
    "import shutil\n",
    "import glob\n",
    "import matplotlib.pyplot as plt\n",
    "import random\n",
    "import torch\n",
    "from torch import nn\n",
    "import torchvision\n",
    "import torch.utils.data\n",
    "from torchvision.utils import save_image\n",
    "import torch.optim as optim\n",
    "from PIL import Image"
   ]
  },
  {
   "cell_type": "code",
   "execution_count": 2,
   "metadata": {},
   "outputs": [],
   "source": [
    "class dataset(torch.utils.data.Dataset):\n",
    "    \n",
    "    def __init__(self,data):\n",
    "        self.data=data\n",
    "        \n",
    "    def to_tanh(self,image):\n",
    "        upper=image.max()\n",
    "        lower=image.min()\n",
    "        image=2*((image-lower)/(upper-lower))-1\n",
    "        return image\n",
    "        \n",
    "    def to_sigmoid(self,image):\n",
    "        upper=image.max()\n",
    "        lower=image.min()\n",
    "        image=(image-lower)/(upper-lower)\n",
    "        return image\n",
    "        \n",
    "    def __getitem__(self,idx):\n",
    "        image=self.to_tanh(self.data[idx,1:]).astype(np.float32).reshape((1,28,28))\n",
    "        return image\n",
    "    \n",
    "    def __len__(self):\n",
    "        return len(self.data)"
   ]
  },
  {
   "cell_type": "code",
   "execution_count": 3,
   "metadata": {},
   "outputs": [],
   "source": [
    "def load_dataset(data,batch_size):\n",
    "    dset=dataset(data)\n",
    "    dloader=torch.utils.data.DataLoader(dset,batch_size=batch_size,shuffle=True)\n",
    "    \n",
    "    return dloader"
   ]
  },
  {
   "cell_type": "code",
   "execution_count": 4,
   "metadata": {},
   "outputs": [],
   "source": [
    "class DNetwork(nn.Module):\n",
    "    def __init__(self):\n",
    "        super().__init__()\n",
    "        \n",
    "        self.main=nn.Sequential(\n",
    "            \n",
    "            #28,28,1\n",
    "            nn.Conv2d(1,8,3,stride=1,padding=0),\n",
    "            nn.Conv2d(8,8,3,stride=2,padding=0),\n",
    "            nn.LeakyReLU(0.2,inplace=True),\n",
    "            \n",
    "            #12,12,8\n",
    "            nn.Conv2d(8,16,3,stride=1,padding=0),\n",
    "            nn.Conv2d(16,16,3,stride=2,padding=0),\n",
    "            nn.LeakyReLU(0.2,inplace=True),\n",
    "            \n",
    "            #4,4,16\n",
    "            nn.Conv2d(16,1,4,stride=1,padding=0),\n",
    "            nn.Sigmoid()#1,1,1\n",
    "        )\n",
    "        \n",
    "    def forward(self,inp):\n",
    "        out=self.main(inp)\n",
    "        return out.view(-1,1).squeeze()"
   ]
  },
  {
   "cell_type": "code",
   "execution_count": 5,
   "metadata": {},
   "outputs": [],
   "source": [
    "class GNetwork(nn.Module):\n",
    "    def __init__(self):\n",
    "        super().__init__()\n",
    "        \n",
    "        self.main=nn.Sequential(\n",
    "        \n",
    "            #1,1,50\n",
    "            nn.ConvTranspose2d(50,16,kernel_size=4,stride=1),\n",
    "            nn.ReLU(inplace=True),\n",
    "            \n",
    "            #4,4,16\n",
    "            nn.ConvTranspose2d(16,8,kernel_size=3,stride=3),\n",
    "            nn.ReLU(inplace=True),\n",
    "            \n",
    "            #12,12,8\n",
    "            nn.ConvTranspose2d(8,1,kernel_size=6,stride=2),\n",
    "            nn.Tanh(),#28,28,1\n",
    "        )\n",
    "        \n",
    "    def forward(self,inp):\n",
    "        out=self.main(inp)\n",
    "        return out"
   ]
  },
  {
   "cell_type": "code",
   "execution_count": 6,
   "metadata": {},
   "outputs": [],
   "source": [
    "cuda=torch.cuda.is_available()\n",
    "device = torch.device(\"cuda:0\" if cuda else \"cpu\")\n",
    "\n",
    "netG=GNetwork().to(device)\n",
    "netD=DNetwork().to(device)\n",
    "\n",
    "doptim=torch.optim.Adam(netD.parameters(),lr=0.001,betas=(0,0.9))\n",
    "goptim=torch.optim.Adam(netG.parameters(),lr=0.001,betas=(0,0.9))"
   ]
  },
  {
   "cell_type": "code",
   "execution_count": 11,
   "metadata": {},
   "outputs": [],
   "source": [
    "def train(dloader,epoch,gpath,dpath):\n",
    "\n",
    "    netG.train()\n",
    "    netD.train()\n",
    "    \n",
    "    for epoch in range(epoch):\n",
    "        gen_iter_loss=0\n",
    "        dis_iter_loss=0\n",
    "\n",
    "        for x in dloader:\n",
    "\n",
    "            real=x.to(device)\n",
    "            z=torch.randn(x.size(0), 50, 1, 1, device=device)\n",
    "            fake=netG(z)\n",
    "\n",
    "            #training discriminator\n",
    "            netD.zero_grad()\n",
    "            dloss=-torch.mean(torch.log(netD(real))+torch.log(1-netD(fake.detach())))\n",
    "            dloss.backward()\n",
    "            dis_iter_loss+=dloss.item()\n",
    "            doptim.step()\n",
    "\n",
    "            #training generator\n",
    "            netG.zero_grad()\n",
    "            gloss=-torch.mean(torch.log(netD(fake)))\n",
    "            gloss.backward()\n",
    "            gen_iter_loss+=gloss.item()\n",
    "            goptim.step()\n",
    "\n",
    "\n",
    "        print(f\"DISCRIMNATOR LOSS : {dis_iter_loss} GENERATOR LOSS : {gen_iter_loss}\")\n",
    "        \n",
    "    torch.save(netD.state_dict(),dpath)\n",
    "    torch.save(netG.state_dict(),gpath)"
   ]
  },
  {
   "cell_type": "code",
   "execution_count": 18,
   "metadata": {},
   "outputs": [],
   "source": [
    "def main(data,gpath,dpath):\n",
    "    batch_size=64\n",
    "    epoch=5\n",
    "    \n",
    "    dloader=load_dataset(data,batch_size)\n",
    "    train(dloader,epoch,gmodel,dmodel,gpath,dpath)"
   ]
  },
  {
   "cell_type": "code",
   "execution_count": null,
   "metadata": {},
   "outputs": [],
   "source": []
  }
 ],
 "metadata": {
  "kernelspec": {
   "display_name": "Python 3",
   "language": "python",
   "name": "python3"
  },
  "language_info": {
   "codemirror_mode": {
    "name": "ipython",
    "version": 3
   },
   "file_extension": ".py",
   "mimetype": "text/x-python",
   "name": "python",
   "nbconvert_exporter": "python",
   "pygments_lexer": "ipython3",
   "version": "3.6.9"
  }
 },
 "nbformat": 4,
 "nbformat_minor": 2
}
