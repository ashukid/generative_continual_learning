{
 "cells": [
  {
   "cell_type": "code",
   "execution_count": 21,
   "metadata": {},
   "outputs": [],
   "source": [
    "import numpy as np\n",
    "import pandas as pd\n",
    "import os\n",
    "import shutil\n",
    "import glob\n",
    "import matplotlib.pyplot as plt\n",
    "import random\n",
    "import torch\n",
    "from torch import nn\n",
    "import torchvision\n",
    "import torch.utils.data\n",
    "from torchvision.utils import save_image\n",
    "import torch.optim as optim\n",
    "from PIL import Image\n",
    "\n",
    "from generative import main as generator\n",
    "from solver import main as solver"
   ]
  },
  {
   "cell_type": "code",
   "execution_count": 32,
   "metadata": {},
   "outputs": [],
   "source": [
    "def plot_images(x):\n",
    "    plt.figure(figsize=(5,5))\n",
    "    for i in range(9):\n",
    "        plt.subplot(3,3,i+1)\n",
    "        plt.imshow(x[i].squeeze())\n",
    "\n",
    "def permute_image_pixel(image,permutation):\n",
    "    c,h,w=image.shape\n",
    "    image=image.reshape(-1,c)\n",
    "    image=image[permutation,:]\n",
    "    return image.reshape(c,h,w)\n",
    "\n",
    "def permute_data(data,permutation):\n",
    "    for i in range(data.shape[0]):\n",
    "        data[i]=permute_image_pixel(data[i],permutation)\n",
    "        \n",
    "    return data"
   ]
  },
  {
   "cell_type": "code",
   "execution_count": 50,
   "metadata": {},
   "outputs": [],
   "source": [
    "def get_dataset(permutation):\n",
    "    data=pd.read_csv(\"./digit-recognizer/train.csv\").values\n",
    "    \n",
    "    #seprate imgaes and labels\n",
    "    x,y=data[:,1:],data[:,0]\n",
    "    \n",
    "    #reshape data to (-1,c,h,w)\n",
    "    x=x.reshape((-1,1,28,28))\n",
    "    \n",
    "    #permute data\n",
    "    x=permute_data(x,permutation)\n",
    "\n",
    "    split_ratio=0.1\n",
    "    total_data=x.shape[0]\n",
    "    xtrain=x[int(total_data*split_ratio):]\n",
    "    ytrain=y[int(total_data*split_ratio):]\n",
    "    xtest=x[:int(total_data*split_ratio)]\n",
    "    ytest=y[:int(total_data*split_ratio)]\n",
    "    return xtrain,ytrain,xtest,ytest"
   ]
  },
  {
   "cell_type": "code",
   "execution_count": 51,
   "metadata": {},
   "outputs": [
    {
     "name": "stdout",
     "output_type": "stream",
     "text": [
      "(37800, 1, 28, 28) (37800,) (4200, 1, 28, 28) (4200,)\n"
     ]
    }
   ],
   "source": [
    "permutation=np.random.RandomState(seed=i).permutation(28*28)\n",
    "xtrain,ytrain,xtest,ytest=get_dataset(permutation)\n",
    "print(xtrain.shape,ytrain.shape,xtest.shape,ytest.shape)"
   ]
  },
  {
   "cell_type": "code",
   "execution_count": null,
   "metadata": {},
   "outputs": [],
   "source": [
    "for i in range(1):\n",
    "    \n",
    "    permutation=np.random.RandomState(seed=i).permutation(28*28)\n",
    "    xtrain,ytrain,xtest,ytest=get_dataset(permutation)\n",
    "    \n",
    "    dis=\"./generators/gen.pt\"\n",
    "    gen=\"./generators/dis.pt\"\n",
    "    \n",
    "    if(i>0): # ignore for the first task\n",
    "        \n",
    "    "
   ]
  }
 ],
 "metadata": {
  "kernelspec": {
   "display_name": "Python 3",
   "language": "python",
   "name": "python3"
  },
  "language_info": {
   "codemirror_mode": {
    "name": "ipython",
    "version": 3
   },
   "file_extension": ".py",
   "mimetype": "text/x-python",
   "name": "python",
   "nbconvert_exporter": "python",
   "pygments_lexer": "ipython3",
   "version": "3.6.9"
  }
 },
 "nbformat": 4,
 "nbformat_minor": 2
}
